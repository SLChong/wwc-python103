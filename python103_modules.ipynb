{
 "cells": [
  {
   "cell_type": "markdown",
   "metadata": {
    "collapsed": true,
    "deletable": true,
    "editable": true
   },
   "source": [
    "# Modules"
   ]
  },
  {
   "cell_type": "markdown",
   "metadata": {},
   "source": [
    "From the smallest code organisation tool (functions) to the (2nd) largest!"
   ]
  },
  {
   "cell_type": "markdown",
   "metadata": {},
   "source": [
    "Modules are another utility that all programming languages provide. They allow us to distribute our code into mutliple files, but use the code as if it were all in one file!"
   ]
  },
  {
   "cell_type": "markdown",
   "metadata": {},
   "source": [
    "### Take a peek:\n",
    "> What the creators of Python have to say about Modules:\n",
    "> https://docs.python.org/3/tutorial/modules.html"
   ]
  },
  {
   "cell_type": "markdown",
   "metadata": {},
   "source": [
    "## What do we do when there's too much code in one file?"
   ]
  },
  {
   "cell_type": "markdown",
   "metadata": {},
   "source": [
    "Here's an illustration:\n",
    "\n",
    "![moduleless](images/my_game_no_modules.png)"
   ]
  },
  {
   "cell_type": "markdown",
   "metadata": {},
   "source": [
    "Quite reasonably we have put our entire project in one file, every single line of code that is related to our game. Is this a problem? Is there a point it becomes a problem?\n",
    "\n",
    "Let's be concervative and estimate that each of the categories listed above requires just 100 lines of code to write. That's manageable, right? Let's find out!"
   ]
  },
  {
   "cell_type": "code",
   "execution_count": null,
   "metadata": {
    "collapsed": false,
    "scrolled": true
   },
   "outputs": [],
   "source": [
    "for line in range(700):\n",
    "    print('I thought my game was small!')"
   ]
  },
  {
   "cell_type": "code",
   "execution_count": null,
   "metadata": {
    "collapsed": false
   },
   "outputs": [],
   "source": [
    "# Alternatively, check how a single file would look:\n",
    "# Hint hint: this is how we can read and write files using Python!\n",
    "\n",
    "with open('MyGame.py', 'w') as game_file:\n",
    "    for line in range(700):\n",
    "        game_file.write('My little adventure got out of hand!\\n')"
   ]
  },
  {
   "cell_type": "code",
   "execution_count": null,
   "metadata": {
    "collapsed": true
   },
   "outputs": [],
   "source": [
    "%%bash\n",
    "\n",
    "open MyGame.py"
   ]
  },
  {
   "cell_type": "markdown",
   "metadata": {},
   "source": [
    "### Our saviour?"
   ]
  },
  {
   "cell_type": "markdown",
   "metadata": {},
   "source": [
    "The solution: (***queue drum roll***) modules! This means distributing our code into multiple files, which has following benefits:"
   ]
  },
  {
   "cell_type": "markdown",
   "metadata": {},
   "source": [
    "- smaller files!\n",
    "- all associated code in one place\n",
    "- easier to find what you need - sensibly labelled files"
   ]
  },
  {
   "cell_type": "markdown",
   "metadata": {},
   "source": [
    "With modules our games modules might look like this:"
   ]
  },
  {
   "cell_type": "markdown",
   "metadata": {},
   "source": [
    "![Modules!](images/my_game_modules.png)"
   ]
  },
  {
   "cell_type": "markdown",
   "metadata": {},
   "source": [
    "Now most of the code is distributed into many different, sensibly labelled places."
   ]
  },
  {
   "cell_type": "markdown",
   "metadata": {},
   "source": [
    "We can easily use the code we've placed in modules using the following syntax:\n",
    "\n",
    "```\n",
    "# MyGame.py\n",
    "\n",
    "# import the modules\n",
    "import Sounds\n",
    "import Characters\n",
    "import Levels\n",
    "\n",
    "# now use any functions, variables or classes inside\n",
    "\n",
    "Sounds.function_to_play_sounds()\n",
    "\n",
    "Characters.function_to_render_character()\n",
    "\n",
    "Levels.load_level_5()\n",
    "```"
   ]
  },
  {
   "cell_type": "markdown",
   "metadata": {},
   "source": [
    "# Guided Example:"
   ]
  },
  {
   "cell_type": "markdown",
   "metadata": {},
   "source": [
    "In the coming exercises let's put our previous TODO app into as many modules as you like and `import` them.\n",
    "\n",
    "If you like, you can use the following Jupyter magic to write your modules without ever leaving this environment! Alternatively, open up your favourite text editor and get to work."
   ]
  },
  {
   "cell_type": "code",
   "execution_count": null,
   "metadata": {
    "collapsed": false
   },
   "outputs": [],
   "source": [
    "%%writefile ./main.py\n",
    "\n",
    "def main():\n",
    "    while True:\n",
    "        print('Success')\n",
    "        break"
   ]
  },
  {
   "cell_type": "code",
   "execution_count": null,
   "metadata": {
    "collapsed": false
   },
   "outputs": [],
   "source": [
    "# Now import it!\n",
    "\n",
    "import"
   ]
  },
  {
   "cell_type": "markdown",
   "metadata": {},
   "source": [
    "> **Note:** you will need to restart the notebook frequently to ensure your new modules are found correctly! Use the toolbar above."
   ]
  },
  {
   "cell_type": "markdown",
   "metadata": {},
   "source": [
    "# Exercise:"
   ]
  },
  {
   "cell_type": "markdown",
   "metadata": {},
   "source": [
    "# 1)"
   ]
  },
  {
   "cell_type": "markdown",
   "metadata": {},
   "source": [
    "Move your entire app into a separate file and import it below. \n",
    "\n",
    "It should work normally!"
   ]
  },
  {
   "cell_type": "markdown",
   "metadata": {},
   "source": [
    "# 2)"
   ]
  },
  {
   "cell_type": "markdown",
   "metadata": {},
   "source": [
    "Move some or all of the functions out of the file made in exercise 1 into a sepaarate module.\n",
    "\n",
    "Import the module into the module made in in exercise 1.\n",
    "\n",
    "Your app should continue to work normally!"
   ]
  },
  {
   "cell_type": "markdown",
   "metadata": {},
   "source": [
    "# 3)"
   ]
  },
  {
   "cell_type": "markdown",
   "metadata": {},
   "source": [
    "Find the TODO apps made by me, Chee Yim and Lydia and `import` them into this notebook and try out the apps! \n",
    "\n",
    "This cannot be done as simply as your own code - the format must be:\n",
    "\n",
    "`import <directory>.<module>`\n",
    "\n",
    "The 'dot' is critical!"
   ]
  },
  {
   "cell_type": "code",
   "execution_count": null,
   "metadata": {
    "collapsed": false
   },
   "outputs": [],
   "source": [
    "%ls lydias_todo/"
   ]
  },
  {
   "cell_type": "code",
   "execution_count": null,
   "metadata": {
    "collapsed": false
   },
   "outputs": [],
   "source": [
    "%ls chee_yims_todo/"
   ]
  },
  {
   "cell_type": "code",
   "execution_count": null,
   "metadata": {
    "collapsed": false
   },
   "outputs": [],
   "source": [
    "%ls aarons_todo"
   ]
  },
  {
   "cell_type": "markdown",
   "metadata": {},
   "source": [
    "# 3rd Party Libraries!"
   ]
  },
  {
   "cell_type": "markdown",
   "metadata": {},
   "source": [
    "In the Python community, if someone wants to publish their work so others can benefit from it, they will put it here: https://pypi.python.org/pypi"
   ]
  },
  {
   "cell_type": "markdown",
   "metadata": {},
   "source": [
    "On PyPi you will find thousands of utilities, frameworks and apps that we can use freely in our own projects."
   ]
  },
  {
   "cell_type": "markdown",
   "metadata": {},
   "source": [
    "Obtaining this code is easy. Find a project you like and use the `pip` tool which was installed along with Python:\n",
    "    \n",
    "e.g. `pip install django`\n",
    "\n",
    "If you try the above on your own computers terminal/command prompt you can simply `import django` anywhere on your computer!"
   ]
  },
  {
   "cell_type": "code",
   "execution_count": null,
   "metadata": {
    "collapsed": true
   },
   "outputs": [],
   "source": [
    "import django"
   ]
  },
  {
   "cell_type": "markdown",
   "metadata": {},
   "source": [
    "## What do we call a collection of modules?"
   ]
  },
  {
   "cell_type": "markdown",
   "metadata": {},
   "source": [
    "> **Packages**"
   ]
  },
  {
   "cell_type": "markdown",
   "metadata": {},
   "source": [
    "### Many packages come together to make complicated frameworks and tools like Django, Flask, Pygame, Pandas, or the Python standard library!"
   ]
  },
  {
   "cell_type": "markdown",
   "metadata": {},
   "source": [
    "> All packages have one thing in common:\n",
    "\n",
    "> `__init__.py`\n",
    "\n",
    "> The meaning, purpose and use cases for this file will not be covered today but know that all packages require one of these files but you will rarely ever need to touch it!"
   ]
  },
  {
   "cell_type": "markdown",
   "metadata": {},
   "source": [
    "# Python Standard Library\n",
    "\n",
    "Hundreds of packages are provided with every Python installation, check the list here:\n",
    "\n",
    "https://docs.python.org/3/library/"
   ]
  },
  {
   "cell_type": "markdown",
   "metadata": {},
   "source": [
    "# 4) Find 1 or 2 Python standard libraries and import them into your notebook"
   ]
  },
  {
   "cell_type": "markdown",
   "metadata": {},
   "source": [
    "**Bonus Round**: \n",
    "\n",
    "1) Take a few minutes to dive deeper into your standard libraary choices. What usecases can you imagine for these tools? Could any of them be used to achieve your own goals?\n",
    "\n",
    "2) Search for a few keywords associated with your goals on PyPi, see if you can discover any libraries other people have written that may help you create your dream app!"
   ]
  },
  {
   "cell_type": "code",
   "execution_count": null,
   "metadata": {
    "collapsed": true
   },
   "outputs": [],
   "source": []
  }
 ],
 "metadata": {
  "kernelspec": {
   "display_name": "Python 3",
   "language": "python",
   "name": "python3"
  },
  "language_info": {
   "codemirror_mode": {
    "name": "ipython",
    "version": 3
   },
   "file_extension": ".py",
   "mimetype": "text/x-python",
   "name": "python",
   "nbconvert_exporter": "python",
   "pygments_lexer": "ipython3",
   "version": "3.6.0"
  }
 },
 "nbformat": 4,
 "nbformat_minor": 2
}
