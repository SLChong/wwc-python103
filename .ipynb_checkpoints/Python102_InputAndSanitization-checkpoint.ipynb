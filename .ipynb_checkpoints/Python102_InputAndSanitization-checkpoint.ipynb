{
 "cells": [
  {
   "cell_type": "markdown",
   "metadata": {
    "deletable": true,
    "editable": true
   },
   "source": [
    "## Input\n",
    "\n",
    "The input() call lets the user enter the right string to make the program move on. \n",
    "\n",
    "**Food for thought**: Can you think of other inputs in a program? Hint: Python 101"
   ]
  },
  {
   "cell_type": "code",
   "execution_count": 1,
   "metadata": {
    "collapsed": false,
    "deletable": true,
    "editable": true
   },
   "outputs": [
    {
     "name": "stdout",
     "output_type": "stream",
     "text": [
      "Please type your name.\n",
      "test\n",
      "Age:test\n"
     ]
    }
   ],
   "source": [
    "print('Please type your name.')\n",
    "name = input()  \n",
    "\n",
    "# You may pass paraameter into input()\n",
    "age = input(\"Age:\")"
   ]
  },
  {
   "cell_type": "markdown",
   "metadata": {
    "deletable": true,
    "editable": true
   },
   "source": [
    "## Sanitization\n",
    "\n",
    "Sanitizing is when a server handles user input and 'cleans' (or 'sanitizes') the user's field before actually handling it. You're right with the malicious escape codes, such as with SQL injection apply to checking the validity of a field, where it can return an error to the user. \n",
    "\n",
    "[Typo that destroy a space shuttle](https://priceonomics.com/the-typo-that-destroyed-a-space-shuttle/)\n",
    "\n",
    "[Amazon explain S3 outage due to employee error](http://www.geekwire.com/2017/amazon-explains-massive-aws-outage-says-employee-error-took-servers-offline-promises-changes/)"
   ]
  },
  {
   "cell_type": "code",
   "execution_count": 4,
   "metadata": {
    "collapsed": false,
    "deletable": true,
    "editable": true
   },
   "outputs": [
    {
     "name": "stdout",
     "output_type": "stream",
     "text": [
      "What is your age?1\n"
     ]
    },
    {
     "data": {
      "text/plain": [
       "1"
      ]
     },
     "execution_count": 4,
     "metadata": {},
     "output_type": "execute_result"
    }
   ],
   "source": [
    "myAge = input('What is your age?')\n",
    "age = int(myAge)\n",
    "age"
   ]
  },
  {
   "cell_type": "code",
   "execution_count": null,
   "metadata": {
    "collapsed": true
   },
   "outputs": [],
   "source": [
    "# Note that if you pass a value to int() that it cannot evaluate as an integer, Python will display an error message.\n",
    "int('99.99')\n",
    "int('twelve')"
   ]
  },
  {
   "cell_type": "markdown",
   "metadata": {},
   "source": [
    "## Work on To-Do List\n",
    "Try to create the menu with expected output like this:\n",
    "\n",
    "----------------\n",
    "What is your name?  \n",
    "test  \n",
    "  \n",
    "Hello test!   \n",
    "Options:  \n",
    "1 - View your to-do lists  \n",
    "2 - Create a to-do  \n",
    "3 - Complete a to-do  \n",
    "4 - Delete a to-do  \n",
    "0 - Quit  \n"
   ]
  }
 ],
 "metadata": {
  "kernelspec": {
   "display_name": "Python 3",
   "language": "python",
   "name": "python3"
  },
  "language_info": {
   "codemirror_mode": {
    "name": "ipython",
    "version": 3
   },
   "file_extension": ".py",
   "mimetype": "text/x-python",
   "name": "python",
   "nbconvert_exporter": "python",
   "pygments_lexer": "ipython3",
   "version": "3.6.0"
  }
 },
 "nbformat": 4,
 "nbformat_minor": 2
}
