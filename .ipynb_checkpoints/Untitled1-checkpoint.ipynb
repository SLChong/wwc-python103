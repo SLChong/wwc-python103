{
 "cells": [
  {
   "cell_type": "code",
   "execution_count": 1,
   "metadata": {
    "collapsed": false
   },
   "outputs": [
    {
     "name": "stdout",
     "output_type": "stream",
     "text": [
      "What is your name?\n"
     ]
    }
   ],
   "source": [
    "print('What is your name?')"
   ]
  },
  {
   "cell_type": "code",
   "execution_count": 5,
   "metadata": {
    "collapsed": false
   },
   "outputs": [
    {
     "name": "stdout",
     "output_type": "stream",
     "text": [
      "What is your name?sfds\n",
      "Hello sfds!\n"
     ]
    }
   ],
   "source": [
    "name = input('What is your name?')\n",
    "print('Hello %s!' % name)"
   ]
  },
  {
   "cell_type": "code",
   "execution_count": 9,
   "metadata": {
    "collapsed": false
   },
   "outputs": [
    {
     "name": "stdout",
     "output_type": "stream",
     "text": [
      "Options:\n",
      "1 - View your to-do lists\n",
      "2 - Create a to-do\n",
      "3 - Complete a to-do\n",
      "4 - Delete a to-do\n",
      "0 - Quit\n",
      "1\n"
     ]
    }
   ],
   "source": [
    "message = \"\"\"Options:\n",
    "1 - View your to-do lists\n",
    "2 - Create a to-do\n",
    "3 - Complete a to-do\n",
    "4 - Delete a to-do\n",
    "0 - Quit\n",
    "\"\"\"\n",
    "option = input(message)"
   ]
  },
  {
   "cell_type": "code",
   "execution_count": null,
   "metadata": {
    "collapsed": false
   },
   "outputs": [
    {
     "name": "stdout",
     "output_type": "stream",
     "text": [
      "What is your name?chee\n",
      "Hello chee!\n",
      "Options:\n",
      "            1 - View your to-do lists\n",
      "            2 - Create a to-do\n",
      "            3 - Complete a to-do\n",
      "            4 - Delete a to-do\n",
      "            0 - Quit\n",
      "            1\n",
      "\n",
      "chee yim's to-do list is:\n",
      "learn python\n",
      "read something\n",
      "feed the dog\n",
      "\n",
      "lidya's to-do list is:\n",
      "mentor python 102\n",
      "nasa hackathon\n"
     ]
    }
   ],
   "source": [
    "def create(todolist):\n",
    "    todoitem = input(\"Enter your to-do item:\")\n",
    "    todolist.get(0).append(todoitem)\n",
    "\n",
    "def display(todolist):\n",
    "    for k, v, in todolists.items():\n",
    "        print(\"\\n%s\\'s to-do list is:\" % k)\n",
    "        for item in v:\n",
    "            print(\"%s\" % item)\n",
    "    \n",
    "def menu(name, todolists):\n",
    "    message = \"\"\"Options:\n",
    "            1 - View your to-do lists\n",
    "            2 - Create a to-do\n",
    "            3 - Complete a to-do\n",
    "            4 - Delete a to-do\n",
    "            0 - Quit\n",
    "            \"\"\"\n",
    "    while True:\n",
    "        option = int(input(message))\n",
    "        if option == 1:\n",
    "            display(todolists)\n",
    "        elif option == 2:\n",
    "            create(todolists)\n",
    "        elif option == 3:\n",
    "            print(\"Complete a to-do\")\n",
    "        elif option == 4:\n",
    "            print(\"Delete a to-do\")\n",
    "        elif option == 0:\n",
    "            print(\"Quit, Bye Bye %s\" % name)\n",
    "            break\n",
    "        else:\n",
    "            print(\"Invalid input. Should be 0 - 4\")\n",
    "\n",
    "name = input('What is your name?')\n",
    "print('Hello %s!' % name)\n",
    "todolists = { \"chee yim\": [] }\n",
    "#todolists = { \"chee yim\": [\"learn python\", \"read something\", \"feed the dog\"],\n",
    "#              \"lidya\" : [\"mentor python 102\", \"nasa hackathon\"]\n",
    "#            }\n",
    "menu(name, todolists)\n"
   ]
  },
  {
   "cell_type": "code",
   "execution_count": 21,
   "metadata": {
    "collapsed": false
   },
   "outputs": [
    {
     "name": "stdout",
     "output_type": "stream",
     "text": [
      "\n",
      "chee yim's to-do list is:\n",
      "learn python\n",
      "read something\n",
      "feed the dog\n",
      "\n",
      "lidya's to-do list is:\n",
      "mentor python 102\n",
      "nasa hackathon\n"
     ]
    }
   ],
   "source": [
    "todolists = { \"chee yim\": [\"learn python\", \"read something\", \"feed the dog\"],\n",
    "              \"lidya\" : [\"mentor python 102\", \"nasa hackathon\"]\n",
    "            }\n",
    "for k, v, in todolists.items():\n",
    "    print(\"\\n%s\\'s to-do list is:\" % k)\n",
    "    for item in v:\n",
    "        print(\"%s\" % item)\n"
   ]
  },
  {
   "cell_type": "code",
   "execution_count": null,
   "metadata": {
    "collapsed": true
   },
   "outputs": [],
   "source": []
  },
  {
   "cell_type": "code",
   "execution_count": null,
   "metadata": {
    "collapsed": true
   },
   "outputs": [],
   "source": []
  }
 ],
 "metadata": {
  "kernelspec": {
   "display_name": "Python 3",
   "language": "python",
   "name": "python3"
  },
  "language_info": {
   "codemirror_mode": {
    "name": "ipython",
    "version": 3
   },
   "file_extension": ".py",
   "mimetype": "text/x-python",
   "name": "python",
   "nbconvert_exporter": "python",
   "pygments_lexer": "ipython3",
   "version": "3.6.0"
  }
 },
 "nbformat": 4,
 "nbformat_minor": 2
}
