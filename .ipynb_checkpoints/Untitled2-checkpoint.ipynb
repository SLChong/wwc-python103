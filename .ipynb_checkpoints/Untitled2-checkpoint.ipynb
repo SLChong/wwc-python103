{
 "cells": [
  {
   "cell_type": "code",
   "execution_count": 1,
   "metadata": {
    "collapsed": false
   },
   "outputs": [
    {
     "name": "stdout",
     "output_type": "stream",
     "text": [
      "Who are you?\n",
      "Joe\n",
      "Hello, Joe. What is the password? (It is a fish.)\n",
      "sdsds\n",
      "Invalid password\n"
     ]
    }
   ],
   "source": [
    "while True:\n",
    "  print('Who are you?')\n",
    "  name = input()\n",
    "  if name != 'Joe':       #(1)\n",
    "    continue              #(2)\n",
    "  print('Hello, Joe. What is the password? (It is a fish.)') \n",
    "  password = input()      #(3)\n",
    "  if password == 'swordfish':\n",
    "    print('Access granted.')  #(5)\n",
    "  else:\n",
    "    print('Invalid password')\n",
    "  break"
   ]
  },
  {
   "cell_type": "code",
   "execution_count": null,
   "metadata": {
    "collapsed": true
   },
   "outputs": [],
   "source": []
  }
 ],
 "metadata": {
  "kernelspec": {
   "display_name": "Python 3",
   "language": "python",
   "name": "python3"
  },
  "language_info": {
   "codemirror_mode": {
    "name": "ipython",
    "version": 3
   },
   "file_extension": ".py",
   "mimetype": "text/x-python",
   "name": "python",
   "nbconvert_exporter": "python",
   "pygments_lexer": "ipython3",
   "version": "3.6.0"
  }
 },
 "nbformat": 4,
 "nbformat_minor": 2
}
