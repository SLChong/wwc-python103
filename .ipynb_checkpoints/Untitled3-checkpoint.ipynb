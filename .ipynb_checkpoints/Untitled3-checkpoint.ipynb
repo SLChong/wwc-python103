{
 "cells": [
  {
   "cell_type": "code",
   "execution_count": 1,
   "metadata": {
    "collapsed": false
   },
   "outputs": [
    {
     "name": "stdout",
     "output_type": "stream",
     "text": [
      "What is your name?chee\n",
      "Hello chee!\n",
      "Options:\n",
      "            1 - View your to-do lists\n",
      "            2 - Create a to-do\n",
      "            3 - Complete a to-do\n",
      "            4 - Delete a to-do\n",
      "            0 - Quit\n",
      "            2\n",
      "Enter your to-do item:read\n"
     ]
    },
    {
     "ename": "AttributeError",
     "evalue": "'NoneType' object has no attribute 'append'",
     "output_type": "error",
     "traceback": [
      "\u001b[1;31m---------------------------------------------------------------------------\u001b[0m",
      "\u001b[1;31mAttributeError\u001b[0m                            Traceback (most recent call last)",
      "\u001b[1;32m<ipython-input-1-385b977936d8>\u001b[0m in \u001b[0;36m<module>\u001b[1;34m()\u001b[0m\n\u001b[0;32m     39\u001b[0m \u001b[1;31m#              \"lidya\" : [\"mentor python 102\", \"nasa hackathon\"]\u001b[0m\u001b[1;33m\u001b[0m\u001b[1;33m\u001b[0m\u001b[0m\n\u001b[0;32m     40\u001b[0m \u001b[1;31m#            }\u001b[0m\u001b[1;33m\u001b[0m\u001b[1;33m\u001b[0m\u001b[0m\n\u001b[1;32m---> 41\u001b[1;33m \u001b[0mmenu\u001b[0m\u001b[1;33m(\u001b[0m\u001b[0mname\u001b[0m\u001b[1;33m,\u001b[0m \u001b[0mtodolists\u001b[0m\u001b[1;33m)\u001b[0m\u001b[1;33m\u001b[0m\u001b[0m\n\u001b[0m",
      "\u001b[1;32m<ipython-input-1-385b977936d8>\u001b[0m in \u001b[0;36mmenu\u001b[1;34m(name, todolists)\u001b[0m\n\u001b[0;32m     22\u001b[0m             \u001b[0mdisplay\u001b[0m\u001b[1;33m(\u001b[0m\u001b[0mtodolists\u001b[0m\u001b[1;33m)\u001b[0m\u001b[1;33m\u001b[0m\u001b[0m\n\u001b[0;32m     23\u001b[0m         \u001b[1;32melif\u001b[0m \u001b[0moption\u001b[0m \u001b[1;33m==\u001b[0m \u001b[1;36m2\u001b[0m\u001b[1;33m:\u001b[0m\u001b[1;33m\u001b[0m\u001b[0m\n\u001b[1;32m---> 24\u001b[1;33m             \u001b[0mcreate\u001b[0m\u001b[1;33m(\u001b[0m\u001b[0mtodolists\u001b[0m\u001b[1;33m)\u001b[0m\u001b[1;33m\u001b[0m\u001b[0m\n\u001b[0m\u001b[0;32m     25\u001b[0m         \u001b[1;32melif\u001b[0m \u001b[0moption\u001b[0m \u001b[1;33m==\u001b[0m \u001b[1;36m3\u001b[0m\u001b[1;33m:\u001b[0m\u001b[1;33m\u001b[0m\u001b[0m\n\u001b[0;32m     26\u001b[0m             \u001b[0mprint\u001b[0m\u001b[1;33m(\u001b[0m\u001b[1;34m\"Complete a to-do\"\u001b[0m\u001b[1;33m)\u001b[0m\u001b[1;33m\u001b[0m\u001b[0m\n",
      "\u001b[1;32m<ipython-input-1-385b977936d8>\u001b[0m in \u001b[0;36mcreate\u001b[1;34m(todolist)\u001b[0m\n\u001b[0;32m      1\u001b[0m \u001b[1;32mdef\u001b[0m \u001b[0mcreate\u001b[0m\u001b[1;33m(\u001b[0m\u001b[0mtodolist\u001b[0m\u001b[1;33m)\u001b[0m\u001b[1;33m:\u001b[0m\u001b[1;33m\u001b[0m\u001b[0m\n\u001b[0;32m      2\u001b[0m     \u001b[0mtodoitem\u001b[0m \u001b[1;33m=\u001b[0m \u001b[0minput\u001b[0m\u001b[1;33m(\u001b[0m\u001b[1;34m\"Enter your to-do item:\"\u001b[0m\u001b[1;33m)\u001b[0m\u001b[1;33m\u001b[0m\u001b[0m\n\u001b[1;32m----> 3\u001b[1;33m     \u001b[0mtodolist\u001b[0m\u001b[1;33m.\u001b[0m\u001b[0mget\u001b[0m\u001b[1;33m(\u001b[0m\u001b[1;36m0\u001b[0m\u001b[1;33m)\u001b[0m\u001b[1;33m.\u001b[0m\u001b[0mappend\u001b[0m\u001b[1;33m(\u001b[0m\u001b[0mtodoitem\u001b[0m\u001b[1;33m)\u001b[0m\u001b[1;33m\u001b[0m\u001b[0m\n\u001b[0m\u001b[0;32m      4\u001b[0m \u001b[1;33m\u001b[0m\u001b[0m\n\u001b[0;32m      5\u001b[0m \u001b[1;32mdef\u001b[0m \u001b[0mdisplay\u001b[0m\u001b[1;33m(\u001b[0m\u001b[0mtodolist\u001b[0m\u001b[1;33m)\u001b[0m\u001b[1;33m:\u001b[0m\u001b[1;33m\u001b[0m\u001b[0m\n",
      "\u001b[1;31mAttributeError\u001b[0m: 'NoneType' object has no attribute 'append'"
     ]
    }
   ],
   "source": [
    "def create(todolist):\n",
    "    todoitem = input(\"Enter your to-do item:\")\n",
    "    print(todolist.get(0))\n",
    "    #todolist.get(0).append(todoitem)\n",
    "\n",
    "def display(todolist):\n",
    "    for k, v, in todolists.items():\n",
    "        print(\"\\n%s\\'s to-do list is:\" % k)\n",
    "        for item in v:\n",
    "            print(\"%s\" % item)\n",
    "    \n",
    "def menu(name, todolists):\n",
    "    message = \"\"\"Options:\n",
    "            1 - View your to-do lists\n",
    "            2 - Create a to-do\n",
    "            3 - Complete a to-do\n",
    "            4 - Delete a to-do\n",
    "            0 - Quit\n",
    "            \"\"\"\n",
    "    while True:\n",
    "        option = int(input(message))\n",
    "        if option == 1:\n",
    "            display(todolists)\n",
    "        elif option == 2:\n",
    "            create(todolists)\n",
    "        elif option == 3:\n",
    "            print(\"Complete a to-do\")\n",
    "        elif option == 4:\n",
    "            print(\"Delete a to-do\")\n",
    "        elif option == 0:\n",
    "            print(\"Quit, Bye Bye %s\" % name)\n",
    "            break\n",
    "        else:\n",
    "            print(\"Invalid input. Should be 0 - 4\")\n",
    "\n",
    "name = input('What is your name?')\n",
    "print('Hello %s!' % name)\n",
    "todolists = { \"chee yim\": [] }\n",
    "#todolists = { \"chee yim\": [\"learn python\", \"read something\", \"feed the dog\"],\n",
    "#              \"lidya\" : [\"mentor python 102\", \"nasa hackathon\"]\n",
    "#            }\n",
    "menu(name, todolists)"
   ]
  },
  {
   "cell_type": "code",
   "execution_count": null,
   "metadata": {
    "collapsed": true
   },
   "outputs": [],
   "source": []
  }
 ],
 "metadata": {
  "kernelspec": {
   "display_name": "Python 3",
   "language": "python",
   "name": "python3"
  },
  "language_info": {
   "codemirror_mode": {
    "name": "ipython",
    "version": 3
   },
   "file_extension": ".py",
   "mimetype": "text/x-python",
   "name": "python",
   "nbconvert_exporter": "python",
   "pygments_lexer": "ipython3",
   "version": "3.6.0"
  }
 },
 "nbformat": 4,
 "nbformat_minor": 2
}
