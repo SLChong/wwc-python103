{
 "cells": [
  {
   "cell_type": "markdown",
   "metadata": {},
   "source": [
    "# Welcome to Python 103!\n",
    "\n",
    "![Python 3](./images/python3.png)"
   ]
  },
  {
   "cell_type": "markdown",
   "metadata": {},
   "source": [
    "## Agenda"
   ]
  },
  {
   "cell_type": "markdown",
   "metadata": {},
   "source": [
    "- Refresh Python 102 content\n",
    "    - Variables and data type\n",
    "    - Data structures\n",
    "    - Control flow and logcal operators\n",
    "    - Looping\n",
    "- Functions\n",
    "- Modules\n",
    "- Classes\n",
    "- Libraries"
   ]
  },
  {
   "cell_type": "markdown",
   "metadata": {},
   "source": [
    "## Python 102  Refresher"
   ]
  },
  {
   "cell_type": "markdown",
   "metadata": {},
   "source": [
    "Let's begin today by refreshing what you learned in the previous workshop. Do your best to work through the following exercises **and take this opportunity to ask every question you need regarding previous topics**. "
   ]
  },
  {
   "cell_type": "markdown",
   "metadata": {},
   "source": [
    "## Variables and data types"
   ]
  },
  {
   "cell_type": "markdown",
   "metadata": {},
   "source": [
    "> **Create a variable for every datatype you can remember. There should be at least 4.**"
   ]
  },
  {
   "cell_type": "code",
   "execution_count": null,
   "metadata": {
    "collapsed": true
   },
   "outputs": [],
   "source": []
  },
  {
   "cell_type": "markdown",
   "metadata": {},
   "source": [
    "> **Why does the following create an error? What can you change to make a valid output?**"
   ]
  },
  {
   "cell_type": "code",
   "execution_count": 1,
   "metadata": {},
   "outputs": [
    {
     "ename": "TypeError",
     "evalue": "must be str, not int",
     "output_type": "error",
     "traceback": [
      "\u001b[0;31m---------------------------------------------------------------------------\u001b[0m",
      "\u001b[0;31mTypeError\u001b[0m                                 Traceback (most recent call last)",
      "\u001b[0;32m<ipython-input-1-33821c941fcc>\u001b[0m in \u001b[0;36m<module>\u001b[0;34m()\u001b[0m\n\u001b[0;32m----> 1\u001b[0;31m \u001b[0;34m'1234'\u001b[0m \u001b[0;34m+\u001b[0m \u001b[0;36m5678\u001b[0m\u001b[0;34m\u001b[0m\u001b[0m\n\u001b[0m",
      "\u001b[0;31mTypeError\u001b[0m: must be str, not int"
     ]
    }
   ],
   "source": [
    "'1234' + 5678"
   ]
  },
  {
   "cell_type": "markdown",
   "metadata": {},
   "source": [
    "> **How can we check the `type` of a variable?**"
   ]
  },
  {
   "cell_type": "code",
   "execution_count": null,
   "metadata": {
    "collapsed": true
   },
   "outputs": [],
   "source": []
  },
  {
   "cell_type": "markdown",
   "metadata": {},
   "source": [
    "> **Can you recall the difference between *mutable* and *immutable*?**"
   ]
  },
  {
   "cell_type": "code",
   "execution_count": null,
   "metadata": {
    "collapsed": true
   },
   "outputs": [],
   "source": []
  },
  {
   "cell_type": "markdown",
   "metadata": {},
   "source": [
    "## Data Structures"
   ]
  },
  {
   "cell_type": "markdown",
   "metadata": {},
   "source": [
    "Data structures, or containers, are for holding data. In Python we can easily create data structures with any data type, a mix of data types or even data structures within data structures!"
   ]
  },
  {
   "cell_type": "markdown",
   "metadata": {},
   "source": [
    "> **Can you recall the two data structures covered in Python 102? Create an example of each in the cells below.**"
   ]
  },
  {
   "cell_type": "code",
   "execution_count": null,
   "metadata": {
    "collapsed": true
   },
   "outputs": [],
   "source": []
  },
  {
   "cell_type": "code",
   "execution_count": null,
   "metadata": {
    "collapsed": true
   },
   "outputs": [],
   "source": []
  },
  {
   "cell_type": "markdown",
   "metadata": {},
   "source": [
    "> **Create a `list` with 5 item and *access* the 3rd item.**"
   ]
  },
  {
   "cell_type": "code",
   "execution_count": null,
   "metadata": {
    "collapsed": true
   },
   "outputs": [],
   "source": []
  },
  {
   "cell_type": "markdown",
   "metadata": {},
   "source": [
    "> **Create a dictionary with keys 1 through 7, and values corresponding to a day of week**\n",
    "\n",
    "> e.g. *7,Sunday* - but in a form the computer understands!"
   ]
  },
  {
   "cell_type": "code",
   "execution_count": null,
   "metadata": {
    "collapsed": true
   },
   "outputs": [],
   "source": []
  },
  {
   "cell_type": "markdown",
   "metadata": {},
   "source": [
    "> **How can you access the string for Wednesday in the above `dict`?**"
   ]
  },
  {
   "cell_type": "code",
   "execution_count": null,
   "metadata": {
    "collapsed": true
   },
   "outputs": [],
   "source": []
  },
  {
   "cell_type": "markdown",
   "metadata": {},
   "source": [
    "> **How can we check the `len`gth of a data structure?**"
   ]
  },
  {
   "cell_type": "code",
   "execution_count": null,
   "metadata": {
    "collapsed": true
   },
   "outputs": [],
   "source": []
  },
  {
   "cell_type": "markdown",
   "metadata": {},
   "source": [
    "> **Create a simple TODO `list` and assign it to a variable**."
   ]
  },
  {
   "cell_type": "code",
   "execution_count": null,
   "metadata": {
    "collapsed": true
   },
   "outputs": [],
   "source": []
  },
  {
   "cell_type": "markdown",
   "metadata": {},
   "source": [
    "> **Recreate your TODO *list* using a `dict`.**\n",
    "\n",
    "> Consider how you can use the dictionary `keys` as meaningful labels."
   ]
  },
  {
   "cell_type": "code",
   "execution_count": null,
   "metadata": {
    "collapsed": true
   },
   "outputs": [],
   "source": []
  },
  {
   "cell_type": "markdown",
   "metadata": {},
   "source": [
    "### Challenge!\n",
    "> **Create a TODO `dictionary`. **\n",
    "\n",
    "> **Use the `keys` as category labels, such as:** work, home, kids, shopping\n",
    "\n",
    "> **Use `lists` as the dictionary `values` to represent the TODO items!**\n",
    "\n",
    "#### e.g.\n",
    "\n",
    "> **KEY:** home, \n",
    "\n",
    "> **VALUE:** ['take out the trash', 'bake cake', 'fix the leaking tap']"
   ]
  },
  {
   "cell_type": "code",
   "execution_count": null,
   "metadata": {
    "collapsed": true
   },
   "outputs": [],
   "source": []
  },
  {
   "cell_type": "markdown",
   "metadata": {},
   "source": [
    "## Looping\n",
    "\n",
    "![Going loopy!](./images/loopy.jpg)"
   ]
  },
  {
   "cell_type": "markdown",
   "metadata": {},
   "source": [
    "### Syntax Reminder"
   ]
  },
  {
   "cell_type": "markdown",
   "metadata": {},
   "source": [
    "#### `for` Loops\n",
    "\n",
    "`for` loops expect to finish. They usually used for performing actions on items within a container. In psuedo-code we can express `for` loops like:\n",
    "\n",
    "```for every item in a container:\n",
    "    do something!```\n",
    "    \n",
    "The container can be the `range()` function which simply creates a `list` of a predefined length. We can use this convenience to ensure the loop is performed a certain amount of times.\n",
    "\n",
    "Alernatively, we can give the loop any of the data structures you used previously, and step through it one by one."
   ]
  },
  {
   "cell_type": "code",
   "execution_count": null,
   "metadata": {},
   "outputs": [],
   "source": [
    "# Refamiliarise yourself with `range()`. Try changing the number!\n",
    "\n",
    "list(range(10))"
   ]
  },
  {
   "cell_type": "code",
   "execution_count": null,
   "metadata": {},
   "outputs": [],
   "source": [
    "list(range(1, 11))"
   ]
  },
  {
   "cell_type": "markdown",
   "metadata": {},
   "source": [
    "> **Loops over the numbers from 1-10 and `print()` them to the screen.**\n",
    "\n",
    "```for numbers in range 1-10:\n",
    "    print() each number to the screen```"
   ]
  },
  {
   "cell_type": "code",
   "execution_count": null,
   "metadata": {
    "collapsed": true
   },
   "outputs": [],
   "source": []
  },
  {
   "cell_type": "markdown",
   "metadata": {},
   "source": [
    "> **Set a `list` of numbers as a variable**\n",
    "\n",
    "> **Use a `for` loop to add 5 to each number in the `list`.**\n",
    "\n",
    "> **`print` the result of each addition to the screen**\n",
    "\n",
    "```\n",
    "list = list\n",
    "for number in list:\n",
    "    add 5 to each number and save to a variable\n",
    "    print() number to the screen```"
   ]
  },
  {
   "cell_type": "markdown",
   "metadata": {
    "collapsed": true
   },
   "source": [
    "> **Loop over your TODO `dict`** and clear every list of tasks.\n",
    "\n",
    "```\n",
    "todo_dict = {\n",
    "    'home': ['take out the trash', 'bake cake', 'fix the leaking tap'],\n",
    "    'python103': ['intro', 'functions`, `modules`, `classes`, `libraries`]\n",
    "}\n",
    "\n",
    "for category in todo_dict.items():\n",
    "    empty todo list!\n",
    "\n",
    "```"
   ]
  },
  {
   "cell_type": "markdown",
   "metadata": {
    "collapsed": true
   },
   "source": [
    "## Conditionals"
   ]
  },
  {
   "cell_type": "markdown",
   "metadata": {
    "collapsed": true
   },
   "source": [
    "We can achieve a fair amount with the concepts above but things become difficult when you want your computer to begin making decisions! For instance, maybe we want to delete specific tasks and not the entire list, or perhaps we want, to add tasks but only if they belong to a certain category.\n",
    "\n",
    "For this we need conditional logic.\n",
    "\n",
    "Perhaps we want to delete all tasks from a category `if` that `list` has only 2 items or less.\n",
    "\n",
    "In pseudo-code:\n",
    "\n",
    "```\n",
    "todo_dict = {\n",
    "    'home': ['take out the trash', 'bake cake'],\n",
    "    'python103': ['intro', 'functions`, `modules`, `classes`, `libraries`]\n",
    "}\n",
    "\n",
    "for category in todo_dict.items():\n",
    "    if length of category task list <= 2:\n",
    "        empty todo list!\n",
    "\n",
    "```\n",
    "\n",
    "Result:\n",
    "\n",
    "```\n",
    "{\n",
    "    'home': [], \n",
    "    'python103': ['intro', 'functions', 'modules', 'classes', 'libraries']\n",
    "}\n",
    "```"
   ]
  },
  {
   "cell_type": "code",
   "execution_count": null,
   "metadata": {
    "collapsed": true
   },
   "outputs": [],
   "source": []
  },
  {
   "cell_type": "markdown",
   "metadata": {
    "collapsed": true
   },
   "source": [
    "> **We can use `if` statements to conveniently check for items within a container using the `in` key word.**\n",
    "\n",
    "> Try to translate the following pseudo-code into code.\n",
    "\n",
    "> **Note:** we can use `todo_dict.keys()` to create a `list` of only the keys! \n",
    "\n",
    "```\n",
    "if todo_dict has category:\n",
    "    print all tasks from that category to the screen\n",
    "```"
   ]
  },
  {
   "cell_type": "code",
   "execution_count": null,
   "metadata": {
    "collapsed": true
   },
   "outputs": [],
   "source": []
  },
  {
   "cell_type": "markdown",
   "metadata": {
    "collapsed": true
   },
   "source": [
    "# Final Challenge!"
   ]
  },
  {
   "cell_type": "markdown",
   "metadata": {
    "collapsed": true
   },
   "source": [
    "> **There is a total of 4 errors in the following code, find them!**"
   ]
  },
  {
   "cell_type": "code",
   "execution_count": null,
   "metadata": {},
   "outputs": [],
   "source": [
    "todo_dict = []\n",
    "exit = True\n",
    "while not exit:\n",
    "    continue_or_not = input('Type \"exit\" to quit. ')\n",
    "    if continue_or_not = 'exit':\n",
    "        exit = True\n",
    "        print(todo_dict)\n",
    "        continue\n",
    "    category = input('Enter a task category ')\n",
    "    task = input('Enter a task ')\n",
    "    if category in todo_dict:\n",
    "        todo_dict[category] = []\n",
    "    todo_dict[category].append(task)"
   ]
  },
  {
   "cell_type": "markdown",
   "metadata": {
    "collapsed": true
   },
   "source": [
    "> For those of you who get this far, try thinking about, or Googling for, the following enhancements to the above code:\n",
    "\n",
    "1) How we make the following lines into a single line of code?\n",
    "\n",
    "```continue_or_not = input('Type \"exit\" to quit. ')\n",
    "    if continue_or_not == 'exit':```\n",
    "    \n",
    "2) Find alternative ways to append/update `lists` and `dicts`.\n",
    "\n",
    "`todo_dict[category] = []`\n",
    "\n",
    "`todo_dict[category].append(task)`"
   ]
  },
  {
   "cell_type": "markdown",
   "metadata": {},
   "source": [
    "# Coming up!\n",
    "\n",
    "For the remainder of today we will take the above code a gradually extend it using the topics of functions, classes, modules, and libraries. As taster, here's the final product we will create and you should all understand by the end of todays session."
   ]
  },
  {
   "cell_type": "code",
   "execution_count": 29,
   "metadata": {
    "collapsed": true
   },
   "outputs": [],
   "source": [
    "from datetime import datetime\n",
    "\n",
    "class Task(object):\n",
    "    priority = 3\n",
    "    \n",
    "    def __init__(self, description):\n",
    "        self.description = description\n",
    "        self.complete = False\n",
    "        self.created_date = datetime.now()\n",
    "        self.completed_date = None\n",
    "        \n",
    "    def complete_task(self):\n",
    "        self.completed_date = datetime.now()\n",
    "        self.complete = True\n",
    "        \n",
    "    def is_task_complete(self):\n",
    "        return self.complete == True\n",
    "    \n",
    "    def get_priority():\n",
    "        return self.priority\n",
    "    \n",
    "    def __repr__(self):\n",
    "        return '<< Low Priority Task: ' + self.description + ' >>'\n",
    "\n",
    "\n",
    "class HighPriorityTask(Task):\n",
    "    priority = 5\n",
    "    \n",
    "    def __repr__(self):\n",
    "        return '<< HIGH PRIORITY TASK: {} >>'.format(self.description)\n",
    "\n",
    "\n",
    "def get_category_task_and_priority_from_user():\n",
    "    category = input('Enter a task category ')\n",
    "    task = input('Enter a task ')\n",
    "    priority = input('What is this tasks priority? (Enter \"low\" or \"high\") ')\n",
    "    return category, task, priority\n",
    "\n",
    "def create_category_if_not_present(todos, category):\n",
    "    if category not in todos:\n",
    "        todos.update({category: []})\n",
    "    return todos\n",
    "\n",
    "def build_task(task_description, priority='low'):\n",
    "    if priority == 'low':\n",
    "        return Task(task_description)\n",
    "    else:\n",
    "        return HighPriorityTask(task_description)\n",
    "    \n",
    "def add_task(todo_dict):\n",
    "    category, task, priority = get_category_and_task_from_user()\n",
    "    todo_dict = create_category_if_not_present(todo_dict, category)\n",
    "    task_object = build_task(task, priority=priority)\n",
    "    todo_dict[category].append(task_object)\n",
    "    return todo_dict"
   ]
  },
  {
   "cell_type": "code",
   "execution_count": 30,
   "metadata": {},
   "outputs": [],
   "source": [
    "def delete_task(tasks, task_id):\n",
    "    del(tasks[int(task_id)])\n",
    "\n",
    "def complete_task(tasks, task_id):\n",
    "    task = tasks[int(task_id)]\n",
    "    task.complete_task()\n",
    "\n",
    "def format_tasks(tasks):\n",
    "    tasks = zip(range(len(tasks)), tasks)\n",
    "    formated_tasks = []\n",
    "    for task in tasks:\n",
    "        formated_tasks.append('{}: {}'.format(task[0], task[1]))\n",
    "    return formated_tasks\n",
    "\n",
    "def print_all_tasks(tasks):\n",
    "    tasks = format_tasks(tasks)\n",
    "    return '\\n'.join(tasks)\n",
    "\n",
    "def manage_category(todo_dict, category):\n",
    "    USER_ACTION_PROMPT = '''Press (1) to view all tasks\n",
    "Press (2) to mark a task complete\n",
    "Press (3) to delete a task\n",
    "Press (4) to exit to the previous menu\n",
    "'''\n",
    "    tasks = todo_dict[category]\n",
    "    exit = False\n",
    "    while not exit:\n",
    "        user_action = input(USER_ACTION_PROMPT)\n",
    "        if user_action == '1':\n",
    "            print(print_all_tasks(tasks))\n",
    "        elif user_action == '2':\n",
    "            task_id = input('Enter a task number to complete task')\n",
    "            complete_task(tasks, task_id)\n",
    "        elif user_action == '3':\n",
    "            delete_task(tasks, task_id)\n",
    "        elif user_action == '4':\n",
    "            exit = True\n",
    "        else:\n",
    "            print('Invalid input, please select again.')\n",
    "\n",
    "def get_categories(todo_dict):\n",
    "    return '\\n'.join(todo_dict.keys())\n",
    "\n",
    "def manage_tasks(todo_dict):\n",
    "    exit = False\n",
    "    while not exit:\n",
    "        category = input('''Please select a task category: \n",
    "        {} \\n'''.format(get_categories(todo_dict)))\n",
    "        manage_category(todo_dict, category)\n",
    "        input('Enter \"exit\" to return to the previous menu')"
   ]
  },
  {
   "cell_type": "code",
   "execution_count": 55,
   "metadata": {
    "collapsed": true
   },
   "outputs": [],
   "source": [
    "def format_tasks(todo_dict):\n",
    "    formated_tasks = []\n",
    "    for category in todo_dict:\n",
    "        for task in todo_dict.get(category, []):\n",
    "            formated_tasks.append('{}: {}'.format(category.capitalize(), task))\n",
    "    return formated_tasks\n",
    "\n",
    "def save_to_file(todo_dict):\n",
    "    filename = input('Please enter a filename')\n",
    "    with open(filename, 'w') as file:\n",
    "        file.write('Your TODOs\\n')\n",
    "        file.write('-'*50)\n",
    "        file.write('\\n\\n')\n",
    "        file.write('\\n'.join(format_tasks(todo_dict)))"
   ]
  },
  {
   "cell_type": "code",
   "execution_count": 56,
   "metadata": {},
   "outputs": [
    {
     "name": "stdout",
     "output_type": "stream",
     "text": [
      "Press (1) to add a task\n",
      "Press (2) to manage tasks\n",
      "Press (3) to save tasks to a file\n",
      "Press (4) to exit\n",
      "1\n",
      "Enter a task category shopping\n",
      "Enter a task get carrots\n",
      "What is this tasks priority? (Enter \"low\" or \"high\")low\n",
      "Press (1) to add a task\n",
      "Press (2) to manage tasks\n",
      "Press (3) to save tasks to a file\n",
      "Press (4) to exit\n",
      "3\n",
      "Please enter a filenamesome_tasks.txt\n",
      "Press (1) to add a task\n",
      "Press (2) to manage tasks\n",
      "Press (3) to save tasks to a file\n",
      "Press (4) to exit\n",
      "4\n"
     ]
    }
   ],
   "source": [
    "USER_ACTION_PROMPT = '''Press (1) to add a task\n",
    "Press (2) to manage tasks\n",
    "Press (3) to save tasks to a file\n",
    "Press (4) to exit\n",
    "'''\n",
    "    \n",
    "def run_program():\n",
    "    todo_dict = {}\n",
    "    exit = False\n",
    "    while not exit:\n",
    "        user_action = input(USER_ACTION_PROMPT)\n",
    "        if user_action == '1':\n",
    "            todo_dict = add_task(todo_dict)\n",
    "        elif user_action == '2':\n",
    "            manage_tasks(todo_dict)\n",
    "        elif user_action == '3':\n",
    "            save_to_file(todo_dict)\n",
    "        elif user_action == '4':\n",
    "            exit = True\n",
    "        else:\n",
    "            print('Invalid input, please select again.')\n",
    "            \n",
    "run_program()"
   ]
  },
  {
   "cell_type": "code",
   "execution_count": 57,
   "metadata": {},
   "outputs": [
    {
     "name": "stdout",
     "output_type": "stream",
     "text": [
      "Your TODOs\r\n",
      "--------------------------------------------------\r\n",
      "\r\n",
      "Shopping: << Low Priority Task: get carrots >>"
     ]
    }
   ],
   "source": [
    "%cat some_tasks.txt"
   ]
  },
  {
   "cell_type": "code",
   "execution_count": null,
   "metadata": {
    "collapsed": true
   },
   "outputs": [],
   "source": []
  },
  {
   "cell_type": "code",
   "execution_count": null,
   "metadata": {
    "collapsed": true
   },
   "outputs": [],
   "source": []
  },
  {
   "cell_type": "code",
   "execution_count": null,
   "metadata": {
    "collapsed": true
   },
   "outputs": [],
   "source": []
  },
  {
   "cell_type": "code",
   "execution_count": null,
   "metadata": {
    "collapsed": true
   },
   "outputs": [],
   "source": []
  },
  {
   "cell_type": "code",
   "execution_count": null,
   "metadata": {
    "collapsed": true
   },
   "outputs": [],
   "source": []
  },
  {
   "cell_type": "code",
   "execution_count": null,
   "metadata": {
    "collapsed": true
   },
   "outputs": [],
   "source": []
  },
  {
   "cell_type": "code",
   "execution_count": null,
   "metadata": {
    "collapsed": true
   },
   "outputs": [],
   "source": []
  },
  {
   "cell_type": "code",
   "execution_count": null,
   "metadata": {
    "collapsed": true
   },
   "outputs": [],
   "source": []
  },
  {
   "cell_type": "code",
   "execution_count": null,
   "metadata": {
    "collapsed": true
   },
   "outputs": [],
   "source": []
  },
  {
   "cell_type": "code",
   "execution_count": null,
   "metadata": {
    "collapsed": true
   },
   "outputs": [],
   "source": []
  },
  {
   "cell_type": "code",
   "execution_count": null,
   "metadata": {
    "collapsed": true
   },
   "outputs": [],
   "source": []
  },
  {
   "cell_type": "code",
   "execution_count": null,
   "metadata": {
    "collapsed": true
   },
   "outputs": [],
   "source": []
  },
  {
   "cell_type": "code",
   "execution_count": null,
   "metadata": {
    "collapsed": true
   },
   "outputs": [],
   "source": []
  }
 ],
 "metadata": {
  "kernelspec": {
   "display_name": "Python 3",
   "language": "python",
   "name": "python3"
  },
  "language_info": {
   "codemirror_mode": {
    "name": "ipython",
    "version": 3
   },
   "file_extension": ".py",
   "mimetype": "text/x-python",
   "name": "python",
   "nbconvert_exporter": "python",
   "pygments_lexer": "ipython3",
   "version": "3.6.1"
  }
 },
 "nbformat": 4,
 "nbformat_minor": 2
}
