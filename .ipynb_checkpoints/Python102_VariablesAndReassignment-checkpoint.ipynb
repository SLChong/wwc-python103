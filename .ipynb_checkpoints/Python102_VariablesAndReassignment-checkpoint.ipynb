{
 "cells": [
  {
   "cell_type": "markdown",
   "metadata": {},
   "source": [
    "# Variables and Reassignment"
   ]
  },
  {
   "cell_type": "markdown",
   "metadata": {},
   "source": [
    "One of the most powerful features of a programming language is the ability to manipulate variables. A variable is a name that refers to a value. \n",
    "\n",
    "Assignment statements create new variables and also give them values to refer to.\n",
    "\n",
    "![Reference Diagram](http://interactivepython.org/runestone/static/thinkcspy/_images/refdiagram1.png)"
   ]
  },
  {
   "cell_type": "code",
   "execution_count": null,
   "metadata": {
    "collapsed": true
   },
   "outputs": [],
   "source": [
    "message = \"What's up, Doc?\"\n",
    "n = 17\n",
    "pi = 3.14159\n",
    "\n",
    "print(message)\n",
    "print(n)\n",
    "print(pi)"
   ]
  },
  {
   "cell_type": "markdown",
   "metadata": {},
   "source": [
    "We use variables in a program to “remember” things, like the current score at the football game. But variables are variable. This means they can change over time, just like the scoreboard at a football game. You can assign a value to a variable, and later assign a different value to the same variable."
   ]
  },
  {
   "cell_type": "code",
   "execution_count": null,
   "metadata": {
    "collapsed": true
   },
   "outputs": [],
   "source": [
    "day = \"Thursday\"\n",
    "day = 32.5\n",
    "day = 19\n",
    "print(day)"
   ]
  },
  {
   "cell_type": "markdown",
   "metadata": {},
   "source": [
    "Variable Names -  You can name a variable anything as long as it obeys the following three rules:\n",
    "\n",
    "It can be only one word.\n",
    "\n",
    "It can use only letters, numbers, and the underscore (_) character.\n",
    "\n",
    "It can’t begin with a number.\n",
    "\n",
    "![Variable Naming](https://raw.githubusercontent.com/wwcodekl/python102/master/images/variableNaming.png)"
   ]
  },
  {
   "cell_type": "markdown",
   "metadata": {},
   "source": [
    "Variable names are case-sensitive, meaning that spam, SPAM, Spam, and sPaM are four different variables. It is a Python convention to start your variables with a lowercase letter.\n"
   ]
  }
 ],
 "metadata": {
  "kernelspec": {
   "display_name": "Python 3",
   "language": "python",
   "name": "python3"
  },
  "language_info": {
   "codemirror_mode": {
    "name": "ipython",
    "version": 3
   },
   "file_extension": ".py",
   "mimetype": "text/x-python",
   "name": "python",
   "nbconvert_exporter": "python",
   "pygments_lexer": "ipython3",
   "version": "3.6.0"
  }
 },
 "nbformat": 4,
 "nbformat_minor": 2
}
