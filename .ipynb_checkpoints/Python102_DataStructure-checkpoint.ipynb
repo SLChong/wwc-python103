{
 "cells": [
  {
   "cell_type": "markdown",
   "metadata": {
    "deletable": true,
    "editable": true
   },
   "source": [
    "## Introduction\n",
    "\n",
    "Why study Data Scructure (DS)? Programs are comprised of two things: **data** and **algorithms**. The algorithms describe the way the data is to be transformed. The reason for learning about data structures is because adding structure to our data can make the algorithms much simpler, easier to maintain, and often faster.\n",
    "\n",
    "Abstract Data Types (ADT) -  a logical description of how we view the data. Examples are stack, queue, deque, and list.\n",
    "\n",
    "**Food for thought**: Why does it matter to chose the right DS in your program as long as it solves the problem? \n",
    "\n",
    "**Recommended Read**: [Basic Data Structures](http://interactivepython.org/runestone/static/pythonds/BasicDS/toctree.html)\n",
    "Note: There are many other data types Python has. The most commonly use are List and Dictionary."
   ]
  },
  {
   "cell_type": "markdown",
   "metadata": {
    "deletable": true,
    "editable": true
   },
   "source": [
    "## List\n",
    "\n",
    "A list is a value that contains multiple values in an ordered sequence.\n",
    "\n",
    "**Recommended Read**: [Lists](https://automatetheboringstuff.com/chapter4/)"
   ]
  },
  {
   "cell_type": "code",
   "execution_count": 1,
   "metadata": {
    "collapsed": false,
    "deletable": true,
    "editable": true
   },
   "outputs": [
    {
     "data": {
      "text/plain": [
       "'elephant'"
      ]
     },
     "execution_count": 1,
     "metadata": {},
     "output_type": "execute_result"
    }
   ],
   "source": [
    "[1, 2, 3]\n",
    "['cat', 'bat', 'rat', 'elephant']\n",
    "['hello', 3.1415, True, None, 42]\n",
    "spam = ['cat', 'bat', 'rat', 'elephant']\n",
    "spam\n",
    "\n",
    "# Accessing individual value\n",
    "spam[0]\n",
    "spam[3]\n",
    "spam[-1]\n",
    "spam[10000]\n",
    "spam[int(1.0)]\n",
    "\n",
    "# List in a list\n",
    "spam = [['cat', 'bat'], [10, 20, 30, 40, 50]]\n",
    "spam[0]\n",
    "spam[0][1]\n",
    "spam[1][4]\n",
    "\n",
    "# Sublist and slices\n",
    "spam = ['cat', 'bat', 'rat', 'elephant']\n",
    "spam[0:4]\n",
    "spam[1:3]\n",
    "spam[0:-1]\n",
    "\n",
    "spam = ['cat', 'bat', 'rat', 'elephant']\n",
    "spam[:2]\n",
    "spam[1:]\n",
    "spam[:]\n",
    "\n",
    "# Getting list length\n",
    "spam = ['cat', 'dog', 'moose']\n",
    "len(spam)\n",
    "\n",
    "# Changing values in list\n",
    "spam = ['cat', 'bat', 'rat', 'elephant']\n",
    "spam[1] = 'aardvark'\n",
    "\n",
    "# List concat and replicate\n",
    "[1, 2, 3] + ['A', 'B', 'C']\n",
    "['X', 'Y', 'Z'] * 3\n",
    "spam = [1, 2, 3]\n",
    "spam = spam + ['A', 'B', 'C']\n",
    "\n",
    "# Remove from list\n",
    "spam = ['cat', 'bat', 'rat', 'elephant']\n",
    "del spam[2]"
   ]
  },
  {
   "cell_type": "markdown",
   "metadata": {
    "deletable": true,
    "editable": true
   },
   "source": [
    "## Dictionary\n",
    "\n",
    "Flexible way to access and organize data. Unlike indexes for lists, indexes for dictionaries can use many different data types, not just integers. Indexes for dictionaries are called keys, and a key with its associated value is called a key-value pair.\n",
    "\n",
    "**Recommended Read**: [Dictionaries and Lists](https://automatetheboringstuff.com/chapter5/)"
   ]
  },
  {
   "cell_type": "code",
   "execution_count": null,
   "metadata": {
    "collapsed": true,
    "deletable": true,
    "editable": true
   },
   "outputs": [],
   "source": [
    "myCat = {'size': 'fat', 'color': 'gray', 'disposition': 'loud'}\n",
    "myCat['size']\n",
    "spam = {12345: 'Luggage Combination', 42: 'The Answer'}\n",
    "\n",
    "# Checking is key exists in a dictionary\n",
    "spam = {'name': 'Zophie', 'age': 7}\n",
    "'name' in spam.keys()\n",
    "'Zophie' in spam.values()\n",
    "\n",
    "# Get() method\n",
    "picnicItems = {'apples': 5, 'cups': 2}\n",
    "'I am bringing ' + str(picnicItems.get('cups', 0)) + ' cups.'\n",
    "'I am bringing ' + str(picnicItems.get('eggs', 0)) + ' eggs.' #What happens if you don't use get() ?\n",
    "\n",
    "# Aliasing and Copying\n",
    "opposites = {'up': 'down', 'right': 'wrong', 'true': 'false'}\n",
    "alias = opposites\n",
    "\n",
    "print(alias is opposites)\n",
    "\n",
    "alias['right'] = 'left'\n",
    "print(opposites['right'])\n",
    "\n",
    "# YIKES ... What just happened?\n",
    "\n",
    "acopy = opposites.copy()\n",
    "acopy['right'] = 'left'    # does not change opposites"
   ]
  },
  {
   "cell_type": "markdown",
   "metadata": {
    "deletable": true,
    "editable": true
   },
   "source": [
    "## Nested Dictionaries and Lists"
   ]
  },
  {
   "cell_type": "code",
   "execution_count": 1,
   "metadata": {
    "collapsed": false,
    "deletable": true,
    "editable": true
   },
   "outputs": [
    {
     "data": {
      "text/plain": [
       "{'apples': 5, 'pretzels': 12}"
      ]
     },
     "execution_count": 1,
     "metadata": {},
     "output_type": "execute_result"
    }
   ],
   "source": [
    "allGuests = {'Alice': {'apples': 5, 'pretzels': 12},\n",
    "                'Bob': {'ham sandwiches': 3, 'apples': 2},\n",
    "                'Carol': {'cups': 3, 'apple pies': 1}}\n",
    "\n",
    "guest = allGuests['Alice']"
   ]
  },
  {
   "cell_type": "code",
   "execution_count": 12,
   "metadata": {
    "collapsed": false,
    "deletable": true,
    "editable": true
   },
   "outputs": [
    {
     "name": "stdout",
     "output_type": "stream",
     "text": [
      "Apples from Alice is 5\n",
      "Apples from Bob is 2\n",
      "Apples from Carol is 0\n"
     ]
    }
   ],
   "source": [
    "for k, v in allGuests.items():\n",
    "    print(\"Apples from %s is %s\" % (k, str(v.get('apples', 0))) )"
   ]
  },
  {
   "cell_type": "markdown",
   "metadata": {
    "collapsed": true,
    "deletable": true,
    "editable": true
   },
   "source": [
    "## Work on To-Do List\n",
    "\n",
    "Create a nested distionary and list to have a data structure that look like this:\n",
    "  \n",
    "Owner: Chee Yim  \n",
    "ToDoList:   \n",
    "* Learn Python  \n",
    "* Read \n",
    "* Exercise  \n",
    "* Spend time with family"
   ]
  }
 ],
 "metadata": {
  "kernelspec": {
   "display_name": "Python 3",
   "language": "python",
   "name": "python3"
  },
  "language_info": {
   "codemirror_mode": {
    "name": "ipython",
    "version": 3
   },
   "file_extension": ".py",
   "mimetype": "text/x-python",
   "name": "python",
   "nbconvert_exporter": "python",
   "pygments_lexer": "ipython3",
   "version": "3.6.0"
  }
 },
 "nbformat": 4,
 "nbformat_minor": 2
}
