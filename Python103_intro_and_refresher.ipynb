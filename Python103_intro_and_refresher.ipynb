{
 "cells": [
  {
   "cell_type": "markdown",
   "metadata": {
    "deletable": true,
    "editable": true
   },
   "source": [
    "# Welcome to Python 103!\n",
    "\n",
    "![Python 3](./images/python3.png)"
   ]
  },
  {
   "cell_type": "markdown",
   "metadata": {
    "deletable": true,
    "editable": true
   },
   "source": [
    "## Agenda"
   ]
  },
  {
   "cell_type": "markdown",
   "metadata": {
    "deletable": true,
    "editable": true
   },
   "source": [
    "- Refresh Python 102 content\n",
    "    - Variables and data type\n",
    "    - Data structures\n",
    "    - Control flow and logcal operators\n",
    "    - Looping\n",
    "- Functions\n",
    "- Modules\n",
    "- Classes\n",
    "- Libraries"
   ]
  },
  {
   "cell_type": "markdown",
   "metadata": {
    "deletable": true,
    "editable": true
   },
   "source": [
    "## Python 102  Refresher"
   ]
  },
  {
   "cell_type": "markdown",
   "metadata": {
    "deletable": true,
    "editable": true
   },
   "source": [
    "Let's begin today by refreshing what you learned in the previous workshop. Do your best to work through the following exercises **and take this opportunity to ask every question you need regarding previous topics**. "
   ]
  },
  {
   "cell_type": "markdown",
   "metadata": {
    "deletable": true,
    "editable": true
   },
   "source": [
    "## Variables and data types"
   ]
  },
  {
   "cell_type": "markdown",
   "metadata": {
    "deletable": true,
    "editable": true
   },
   "source": [
    "> **Create a variable for every datatype you can remember. There should be at least 4.**"
   ]
  },
  {
   "cell_type": "code",
   "execution_count": null,
   "metadata": {
    "collapsed": true,
    "deletable": true,
    "editable": true
   },
   "outputs": [],
   "source": []
  },
  {
   "cell_type": "markdown",
   "metadata": {
    "deletable": true,
    "editable": true
   },
   "source": [
    "> **Why does the following create an error? What can you change to make a valid output?**"
   ]
  },
  {
   "cell_type": "code",
   "execution_count": 1,
   "metadata": {
    "collapsed": false,
    "deletable": true,
    "editable": true
   },
   "outputs": [
    {
     "ename": "TypeError",
     "evalue": "must be str, not int",
     "output_type": "error",
     "traceback": [
      "\u001b[0;31m---------------------------------------------------------------------------\u001b[0m",
      "\u001b[0;31mTypeError\u001b[0m                                 Traceback (most recent call last)",
      "\u001b[0;32m<ipython-input-1-33821c941fcc>\u001b[0m in \u001b[0;36m<module>\u001b[0;34m()\u001b[0m\n\u001b[0;32m----> 1\u001b[0;31m \u001b[0;34m'1234'\u001b[0m \u001b[0;34m+\u001b[0m \u001b[0;36m5678\u001b[0m\u001b[0;34m\u001b[0m\u001b[0m\n\u001b[0m",
      "\u001b[0;31mTypeError\u001b[0m: must be str, not int"
     ]
    }
   ],
   "source": [
    "'1234' + 5678"
   ]
  },
  {
   "cell_type": "markdown",
   "metadata": {
    "deletable": true,
    "editable": true
   },
   "source": [
    "## Data Structures"
   ]
  },
  {
   "cell_type": "markdown",
   "metadata": {
    "deletable": true,
    "editable": true
   },
   "source": [
    "Data structures, or containers, are for holding data. In Python we can easily create data structures with any data type, a mix of data types or even data structures within data structures!"
   ]
  },
  {
   "cell_type": "markdown",
   "metadata": {
    "deletable": true,
    "editable": true
   },
   "source": [
    "> **Create a `list` with 5 item and *access* the 3rd item.**\n",
    "\n",
    "Syntax hint:\n",
    "\n",
    "`this_is_an_empty_list = []`"
   ]
  },
  {
   "cell_type": "code",
   "execution_count": null,
   "metadata": {
    "collapsed": true,
    "deletable": true,
    "editable": true
   },
   "outputs": [],
   "source": []
  },
  {
   "cell_type": "markdown",
   "metadata": {
    "deletable": true,
    "editable": true
   },
   "source": [
    "> **Create a dictionary with keys 1 through 7, and values corresponding to a day of week**\n",
    "\n",
    "> e.g. *7,Sunday* - but in a form the computer understands!\n",
    "\n",
    "Syntax hint:\n",
    "\n",
    "`this_is_an_empty_dict = {}`"
   ]
  },
  {
   "cell_type": "code",
   "execution_count": null,
   "metadata": {
    "collapsed": true,
    "deletable": true,
    "editable": true
   },
   "outputs": [],
   "source": []
  },
  {
   "cell_type": "markdown",
   "metadata": {
    "deletable": true,
    "editable": true
   },
   "source": [
    "> **How can you access the string for Wednesday in the above `dict`?**"
   ]
  },
  {
   "cell_type": "code",
   "execution_count": null,
   "metadata": {
    "collapsed": true,
    "deletable": true,
    "editable": true
   },
   "outputs": [],
   "source": []
  },
  {
   "cell_type": "markdown",
   "metadata": {
    "deletable": true,
    "editable": true
   },
   "source": [
    "> **Create a simple TODO `list` and assign it to a variable**."
   ]
  },
  {
   "cell_type": "code",
   "execution_count": null,
   "metadata": {
    "collapsed": true,
    "deletable": true,
    "editable": true
   },
   "outputs": [],
   "source": []
  },
  {
   "cell_type": "markdown",
   "metadata": {
    "deletable": true,
    "editable": true
   },
   "source": [
    "### Challenge!\n",
    "> **Create a TODO `dictionary`. **\n",
    "\n",
    "> **Use the `keys` as category labels, such as:** work, home, kids, shopping\n",
    "\n",
    "> **Use `lists` as the dictionary `values` to represent the TODO items!**\n",
    "\n",
    "#### e.g.\n",
    "\n",
    "> **KEY:** home, \n",
    "\n",
    "> **VALUE:** ['take out the trash', 'bake cake', 'fix the leaking tap']"
   ]
  },
  {
   "cell_type": "code",
   "execution_count": null,
   "metadata": {
    "collapsed": true,
    "deletable": true,
    "editable": true
   },
   "outputs": [],
   "source": []
  },
  {
   "cell_type": "markdown",
   "metadata": {
    "deletable": true,
    "editable": true
   },
   "source": [
    "## Looping\n",
    "\n",
    "![Going loopy!](./images/loopy.jpg)"
   ]
  },
  {
   "cell_type": "markdown",
   "metadata": {
    "deletable": true,
    "editable": true
   },
   "source": [
    "### Syntax Reminder"
   ]
  },
  {
   "cell_type": "markdown",
   "metadata": {
    "deletable": true,
    "editable": true
   },
   "source": [
    "#### `for` Loops\n",
    "\n",
    "`for` loops expect to finish. They are usually used for performing actions on items within a container. In psuedo-code we can express `for` loops like:\n",
    "\n",
    "```for every item in a container:\n",
    "    do something!```\n",
    "    \n",
    "The container can be the `range()` function which simply creates a `list` of a predefined length. We can use this convenience to ensure the loop is performed a certain amount of times.\n",
    "\n",
    "Alernatively, we can give the loop any of the data structures you used previously, and step through it one by one."
   ]
  },
  {
   "cell_type": "code",
   "execution_count": 1,
   "metadata": {
    "collapsed": false,
    "deletable": true,
    "editable": true
   },
   "outputs": [
    {
     "data": {
      "text/plain": [
       "[0, 1, 2, 3, 4, 5, 6, 7, 8, 9]"
      ]
     },
     "execution_count": 1,
     "metadata": {},
     "output_type": "execute_result"
    }
   ],
   "source": [
    "# Refamiliarise yourself with `range()`. Try changing the numbers!\n",
    "\n",
    "list(range(10))"
   ]
  },
  {
   "cell_type": "code",
   "execution_count": 2,
   "metadata": {
    "collapsed": false,
    "deletable": true,
    "editable": true
   },
   "outputs": [
    {
     "data": {
      "text/plain": [
       "[1, 2, 3, 4, 5, 6, 7, 8, 9, 10]"
      ]
     },
     "execution_count": 2,
     "metadata": {},
     "output_type": "execute_result"
    }
   ],
   "source": [
    "list(range(1, 11))"
   ]
  },
  {
   "cell_type": "markdown",
   "metadata": {
    "deletable": true,
    "editable": true
   },
   "source": [
    "> **Loop over numbers from 1-10 and `print()` them to the screen.**\n",
    "\n",
    "```for numbers in range 1-10:\n",
    "    print() each number to the screen```"
   ]
  },
  {
   "cell_type": "code",
   "execution_count": null,
   "metadata": {
    "collapsed": true,
    "deletable": true,
    "editable": true
   },
   "outputs": [],
   "source": []
  },
  {
   "cell_type": "markdown",
   "metadata": {
    "deletable": true,
    "editable": true
   },
   "source": [
    "> **Set a `list` of numbers as a variable**\n",
    "\n",
    "> **Use a `for` loop to add 5 to each number in the `list`.**\n",
    "\n",
    "> **`print` the result of each addition to the screen**\n",
    "\n",
    "```\n",
    "list = list\n",
    "for number in list:\n",
    "    add 5 to each number and save to a variable\n",
    "    print() number to the screen```"
   ]
  },
  {
   "cell_type": "code",
   "execution_count": null,
   "metadata": {
    "collapsed": true,
    "deletable": true,
    "editable": true
   },
   "outputs": [],
   "source": []
  },
  {
   "cell_type": "markdown",
   "metadata": {
    "collapsed": true,
    "deletable": true,
    "editable": true
   },
   "source": [
    "> **Loop over your TODO `dict`** and clear every list of tasks.\n",
    "\n",
    "```\n",
    "todo_dict = {\n",
    "    'home': ['take out the trash', 'bake cake', 'fix the leaking tap'],\n",
    "    'python103': ['intro', 'functions`, `modules`, `classes`, `libraries`]\n",
    "}\n",
    "\n",
    "for category in todo_dict.items():\n",
    "    empty todo list!\n",
    "\n",
    "```"
   ]
  },
  {
   "cell_type": "markdown",
   "metadata": {
    "collapsed": true,
    "deletable": true,
    "editable": true
   },
   "source": [
    "## Conditionals"
   ]
  },
  {
   "cell_type": "markdown",
   "metadata": {
    "collapsed": true,
    "deletable": true,
    "editable": true
   },
   "source": [
    "We can achieve a fair amount with the concepts above but things become difficult when you want your computer to begin making decisions! For instance, maybe we want to delete specific tasks and not the entire list, or perhaps we want, to add tasks but only if they belong to a certain category.\n",
    "\n",
    "For this we need conditional logic.\n",
    "\n",
    "Perhaps we want to delete all tasks from a category `if` that `list` has only 2 items or less.\n",
    "\n",
    "In pseudo-code:\n",
    "\n",
    "```\n",
    "todo_dict = {\n",
    "    'home': ['take out the trash', 'bake cake'],\n",
    "    'python103': ['intro', 'functions`, `modules`, `classes`, `libraries`]\n",
    "}\n",
    "\n",
    "for category in todo_dict.items():\n",
    "    if length of category task list <= 2:\n",
    "        empty todo list!\n",
    "\n",
    "```\n",
    "\n",
    "Result:\n",
    "\n",
    "```\n",
    "{\n",
    "    'home': [], \n",
    "    'python103': ['intro', 'functions', 'modules', 'classes', 'libraries']\n",
    "}\n",
    "```"
   ]
  },
  {
   "cell_type": "markdown",
   "metadata": {
    "deletable": true,
    "editable": true
   },
   "source": [
    "> **Reproduce the above using valid Python code**"
   ]
  },
  {
   "cell_type": "code",
   "execution_count": null,
   "metadata": {
    "collapsed": true,
    "deletable": true,
    "editable": true
   },
   "outputs": [],
   "source": []
  },
  {
   "cell_type": "markdown",
   "metadata": {
    "deletable": true,
    "editable": true
   },
   "source": [
    "> **We can use `if` statements to conveniently check for items within a container using the `in` key word.**\n",
    "\n",
    "> Translate the following pseudo-code into code.\n",
    "\n",
    "Syntax example: `5 in range(10)`\n",
    "\n",
    "```if todo_dict has category:\n",
    "    print all tasks from that category to the screen```"
   ]
  },
  {
   "cell_type": "code",
   "execution_count": null,
   "metadata": {
    "collapsed": true,
    "deletable": true,
    "editable": true
   },
   "outputs": [],
   "source": []
  },
  {
   "cell_type": "markdown",
   "metadata": {
    "collapsed": true,
    "deletable": true,
    "editable": true
   },
   "source": [
    "# Final Challenge!"
   ]
  },
  {
   "cell_type": "markdown",
   "metadata": {
    "collapsed": true,
    "deletable": true,
    "editable": true
   },
   "source": [
    "> **There are a total of 4 errors in the following code, find them!**"
   ]
  },
  {
   "cell_type": "code",
   "execution_count": null,
   "metadata": {
    "collapsed": true,
    "deletable": true,
    "editable": true
   },
   "outputs": [],
   "source": [
    "todo_dict = []\n",
    "exit = True\n",
    "while not exit:\n",
    "    continue_or_not = input('Type \"exit\" to quit. ')\n",
    "    if continue_or_not = 'exit':\n",
    "        exit = True\n",
    "        print(todo_dict)\n",
    "        continue\n",
    "    category = input('Enter a task category ')\n",
    "    task = input('Enter a task ')\n",
    "    if category in todo_dict:\n",
    "        todo_dict[category] = []\n",
    "    todo_dict[category].append(task)"
   ]
  },
  {
   "cell_type": "markdown",
   "metadata": {
    "collapsed": true,
    "deletable": true,
    "editable": true
   },
   "source": [
    "> **Bonus Round!** Think about, or Google for, the following enhancements to the above code:\n",
    "\n",
    "1) How can we make the following lines into a single line of code?\n",
    "\n",
    "```continue_or_not = input('Type \"exit\" to quit. ')\n",
    "    if continue_or_not == 'exit':```"
   ]
  },
  {
   "cell_type": "markdown",
   "metadata": {
    "deletable": true,
    "editable": true
   },
   "source": [
    "2) Find alternative ways to append/update `lists` and `dicts`.\n",
    "\n",
    "`todo_dict[category] = []`\n",
    "\n",
    "`todo_dict[category].append(task)`"
   ]
  },
  {
   "cell_type": "markdown",
   "metadata": {
    "deletable": true,
    "editable": true
   },
   "source": [
    "3) How can we cancel or exit out of the loop without using the `exit` variable`?\n",
    "\n",
    "```exit = False\n",
    "while not exit:\n",
    "    continue_or_not = input('Type \"exit\" to quit. ')\n",
    "    if continue_or_not == 'exit':\n",
    "        exit = True```"
   ]
  },
  {
   "cell_type": "markdown",
   "metadata": {
    "deletable": true,
    "editable": true
   },
   "source": [
    "# Coming up!\n",
    "\n",
    "For the remainder of today we will take the above code a gradually extend it using the topics of functions, classes, modules, and libraries.\n",
    "\n",
    "As a taster, this is the kind of program we will put together today - try it out!"
   ]
  },
  {
   "cell_type": "code",
   "execution_count": 1,
   "metadata": {
    "collapsed": false,
    "deletable": true,
    "editable": true
   },
   "outputs": [],
   "source": [
    "from aarons_todo.main import run_program"
   ]
  },
  {
   "cell_type": "code",
   "execution_count": null,
   "metadata": {
    "collapsed": true,
    "deletable": true,
    "editable": true
   },
   "outputs": [],
   "source": [
    "# Give it a try!\n",
    "run_program()"
   ]
  },
  {
   "cell_type": "code",
   "execution_count": null,
   "metadata": {
    "collapsed": true,
    "deletable": true,
    "editable": true
   },
   "outputs": [],
   "source": []
  },
  {
   "cell_type": "markdown",
   "metadata": {
    "collapsed": true,
    "deletable": true,
    "editable": true
   },
   "source": [
    "> # Open the `python103_functions` notebook when ready"
   ]
  },
  {
   "cell_type": "code",
   "execution_count": null,
   "metadata": {
    "collapsed": true,
    "deletable": true,
    "editable": true
   },
   "outputs": [],
   "source": []
  },
  {
   "cell_type": "code",
   "execution_count": null,
   "metadata": {
    "collapsed": true,
    "deletable": true,
    "editable": true
   },
   "outputs": [],
   "source": []
  },
  {
   "cell_type": "code",
   "execution_count": null,
   "metadata": {
    "collapsed": true,
    "deletable": true,
    "editable": true
   },
   "outputs": [],
   "source": []
  },
  {
   "cell_type": "code",
   "execution_count": null,
   "metadata": {
    "collapsed": true,
    "deletable": true,
    "editable": true
   },
   "outputs": [],
   "source": []
  },
  {
   "cell_type": "code",
   "execution_count": null,
   "metadata": {
    "collapsed": true,
    "deletable": true,
    "editable": true
   },
   "outputs": [],
   "source": []
  },
  {
   "cell_type": "code",
   "execution_count": null,
   "metadata": {
    "collapsed": true,
    "deletable": true,
    "editable": true
   },
   "outputs": [],
   "source": []
  },
  {
   "cell_type": "code",
   "execution_count": null,
   "metadata": {
    "collapsed": true,
    "deletable": true,
    "editable": true
   },
   "outputs": [],
   "source": []
  },
  {
   "cell_type": "code",
   "execution_count": null,
   "metadata": {
    "collapsed": true,
    "deletable": true,
    "editable": true
   },
   "outputs": [],
   "source": []
  },
  {
   "cell_type": "code",
   "execution_count": null,
   "metadata": {
    "collapsed": true,
    "deletable": true,
    "editable": true
   },
   "outputs": [],
   "source": []
  }
 ],
 "metadata": {
  "kernelspec": {
   "display_name": "Python 3",
   "language": "python",
   "name": "python3"
  },
  "language_info": {
   "codemirror_mode": {
    "name": "ipython",
    "version": 3
   },
   "file_extension": ".py",
   "mimetype": "text/x-python",
   "name": "python",
   "nbconvert_exporter": "python",
   "pygments_lexer": "ipython3",
   "version": "3.6.0"
  }
 },
 "nbformat": 4,
 "nbformat_minor": 2
}
