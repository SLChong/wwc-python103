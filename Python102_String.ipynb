{
 "cells": [
  {
   "cell_type": "markdown",
   "metadata": {
    "deletable": true,
    "editable": true
   },
   "source": [
    "## String Manipulation\n",
    "\n",
    "Strings in Python can be enclosed in either single quotes (') or double quotes (\"), or three of each (''' or \"\"\")"
   ]
  },
  {
   "cell_type": "code",
   "execution_count": 2,
   "metadata": {
    "collapsed": false,
    "deletable": true,
    "editable": true
   },
   "outputs": [
    {
     "name": "stdout",
     "output_type": "stream",
     "text": [
      "<class 'str'>\n",
      "<class 'str'>\n",
      "<class 'str'>\n",
      "<class 'str'>\n"
     ]
    }
   ],
   "source": [
    "print(type('This is a string.') )\n",
    "print(type(\"And so is this.\") )\n",
    "print(type(\"\"\"and this.\"\"\") )\n",
    "print(type('''and even this...''') )"
   ]
  },
  {
   "cell_type": "code",
   "execution_count": 3,
   "metadata": {
    "collapsed": false,
    "deletable": true,
    "editable": true
   },
   "outputs": [
    {
     "name": "stdout",
     "output_type": "stream",
     "text": [
      "This message will\n",
      "span several\n",
      "lines.\n",
      "This message will span\n",
      "several lines\n",
      "of the text.\n"
     ]
    }
   ],
   "source": [
    "# Triple quoted strings can even span multiple lines:\n",
    "\n",
    "message = \"\"\"This message will\n",
    "span several\n",
    "lines.\"\"\"\n",
    "print(message)\n",
    "\n",
    "print(\"\"\"This message will span\n",
    "several lines\n",
    "of the text.\"\"\")"
   ]
  },
  {
   "cell_type": "code",
   "execution_count": 8,
   "metadata": {
    "collapsed": false,
    "deletable": true,
    "editable": true
   },
   "outputs": [
    {
     "data": {
      "text/plain": [
       "'CYCYCYCYCY'"
      ]
     },
     "execution_count": 8,
     "metadata": {},
     "output_type": "execute_result"
    }
   ],
   "source": [
    "# String Concatenation and Replication\n",
    "# Concat with + operator\n",
    "#'Alice' + 'Bob'\n",
    "\n",
    "# Concat string with int ?\n",
    "#'Alice' + 42\n",
    "\n",
    "# Replicate string with *\n",
    "'CY'* 5\n",
    "\n",
    "# Use * between strings\n",
    "#'Alice' * 'Bob'\n",
    "\n",
    "# Use * with string and float ?\n",
    "#'Alice' * 5.0"
   ]
  },
  {
   "cell_type": "markdown",
   "metadata": {
    "deletable": true,
    "editable": true
   },
   "source": [
    "Escape Characters - lets you use characters that are otherwise impossible to put into a string. An escape character consists of a backslash () followed by the character you want to add to the string."
   ]
  },
  {
   "cell_type": "code",
   "execution_count": null,
   "metadata": {
    "collapsed": true,
    "deletable": true,
    "editable": true
   },
   "outputs": [],
   "source": [
    "spam = 'Say hi to Bob\\'s mother.'\n",
    "print(spam)"
   ]
  },
  {
   "cell_type": "markdown",
   "metadata": {
    "deletable": true,
    "editable": true
   },
   "source": [
    "Raw Strings - You can place an r before the beginning quotation mark of a string to make it a raw string. A raw string completely ignores all escape characters and prints any backslash that appears in the string."
   ]
  },
  {
   "cell_type": "code",
   "execution_count": null,
   "metadata": {
    "collapsed": true,
    "deletable": true,
    "editable": true
   },
   "outputs": [],
   "source": [
    " print(r'That is Carol\\'s cat.')"
   ]
  },
  {
   "cell_type": "code",
   "execution_count": 12,
   "metadata": {
    "collapsed": false,
    "deletable": true,
    "editable": true
   },
   "outputs": [
    {
     "data": {
      "text/plain": [
       "'ello'"
      ]
     },
     "execution_count": 12,
     "metadata": {},
     "output_type": "execute_result"
    }
   ],
   "source": [
    "# Indexing and Slicing Strings\n",
    "\n",
    "spam = 'Hello world!'\n",
    "#spam[0]\n",
    "\n",
    "#spam[4]\n",
    "#spam[-1]\n",
    "spam[1:5]\n",
    "#spam[:5]\n",
    "#spam[6:]"
   ]
  },
  {
   "cell_type": "code",
   "execution_count": null,
   "metadata": {
    "collapsed": true,
    "deletable": true,
    "editable": true
   },
   "outputs": [],
   "source": [
    "# The in and not in Operators with Strings\n",
    "\n",
    "'Hello' in 'Hello World'\n",
    "'HELLO' in 'Hello World'\n",
    "'cats' not in 'cats and dogs'"
   ]
  },
  {
   "cell_type": "code",
   "execution_count": null,
   "metadata": {
    "collapsed": true,
    "deletable": true,
    "editable": true
   },
   "outputs": [],
   "source": [
    "# Useful String Methods - upper(), lower(), isupper(), and islower()\n",
    "\n",
    "spam = 'Hello world!'\n",
    "spam = spam.upper()\n",
    "spam\n",
    "\n",
    "# Try out other string methods"
   ]
  },
  {
   "cell_type": "markdown",
   "metadata": {
    "deletable": true,
    "editable": true
   },
   "source": [
    "The isX String Methods - isalpha(), isalnum(), isdecimal(), isspace(), istitle() The startswith() and endswith() String Methods The join() and split() String Methods - ', '.join(['cats', 'rats', 'bats']) Justifying Text with rjust(), ljust(), and center() Removing Whitespace with strip(), rstrip(), and lstrip()"
   ]
  },
  {
   "cell_type": "code",
   "execution_count": 16,
   "metadata": {
    "collapsed": false,
    "deletable": true,
    "editable": true
   },
   "outputs": [
    {
     "data": {
      "text/plain": [
       "False"
      ]
     },
     "execution_count": 16,
     "metadata": {},
     "output_type": "execute_result"
    }
   ],
   "source": [
    "# Try out any string methods here\n",
    "\"asds23232a\".isalpha()"
   ]
  },
  {
   "cell_type": "markdown",
   "metadata": {
    "deletable": true,
    "editable": true
   },
   "source": [
    "**Food for though:** Why is str consider as \"Data Structure\", not data type (previous lesson)?"
   ]
  }
 ],
 "metadata": {
  "kernelspec": {
   "display_name": "Python 3",
   "language": "python",
   "name": "python3"
  },
  "language_info": {
   "codemirror_mode": {
    "name": "ipython",
    "version": 3
   },
   "file_extension": ".py",
   "mimetype": "text/x-python",
   "name": "python",
   "nbconvert_exporter": "python",
   "pygments_lexer": "ipython3",
   "version": "3.6.0"
  }
 },
 "nbformat": 4,
 "nbformat_minor": 2
}
