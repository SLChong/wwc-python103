{
 "cells": [
  {
   "cell_type": "markdown",
   "metadata": {},
   "source": [
    "## Introduction\n",
    "\n",
    "Computers are often used to automate repetitive tasks. Because iteration is so common, Python provides several language features to make it easier - for loop and while loop."
   ]
  },
  {
   "cell_type": "markdown",
   "metadata": {},
   "source": [
    "## For loop\n",
    "\n",
    "In code, a for statement looks something like for i in range(5): and always includes the following:\n",
    "* The for keyword\n",
    "* A variable name\n",
    "* The in keyword\n",
    "* A call to the range() method with up to three integers passed to it\n",
    "* A colon\n",
    "* Starting on the next line, an indented block of code (called the for clause)"
   ]
  },
  {
   "cell_type": "code",
   "execution_count": 1,
   "metadata": {
    "collapsed": false
   },
   "outputs": [
    {
     "name": "stdout",
     "output_type": "stream",
     "text": [
      "My name is\n",
      "CY Five Times (0)\n",
      "CY Five Times (1)\n",
      "CY Five Times (2)\n",
      "CY Five Times (3)\n",
      "CY Five Times (4)\n"
     ]
    }
   ],
   "source": [
    "print ('My name is')\n",
    "for i in range(5):\n",
    "    print('CY Five Times (' + str(i) + ')')"
   ]
  },
  {
   "cell_type": "code",
   "execution_count": 2,
   "metadata": {
    "collapsed": false
   },
   "outputs": [
    {
     "name": "stdout",
     "output_type": "stream",
     "text": [
      "5050\n"
     ]
    }
   ],
   "source": [
    "total = 0               \n",
    "for num in range(101):  \n",
    "   total = total + num  \n",
    "print(total) \n",
    "\n",
    "# Start, Stop and stepping argument in range()\n",
    "for i in range(0, 10, 2):\n",
    "    print(i)\n",
    "    \n",
    "for i in range(5, -1, -1):\n",
    "    print(i)    "
   ]
  },
  {
   "cell_type": "markdown",
   "metadata": {},
   "source": [
    "## While loop\n",
    "\n",
    "You can make a block of code execute over and over again with a while statement. The code in a while clause will be executed as long as the while statement’s condition is True. In code, a while statement always consists of the following:\n",
    "\n",
    "* The while keyword\n",
    "* A condition (that is, an expression that evaluates to True or False)\n",
    "* A colon\n",
    "* Starting on the next line, an indented block of code (called the while clause)"
   ]
  },
  {
   "cell_type": "code",
   "execution_count": null,
   "metadata": {
    "collapsed": true
   },
   "outputs": [],
   "source": [
    "spam = 0\n",
    "while spam < 5:\n",
    "    print('Hello, world.')\n",
    "    spam = spam + 1\n",
    "    \n",
    "# Break statement\n",
    "while True:                         # (1)\n",
    "    print('Please type your name.')\n",
    "    name = input()                  # (2)\n",
    "    if name == 'your name':         # (3)\n",
    "        break                       # (4)\n",
    "print('Thank you!')                 # (5)\n",
    "\n",
    "\n",
    "while True:\n",
    "  print('Who are you?')\n",
    "  name = input()\n",
    "  if name != 'Joe':       #(1)\n",
    "    continue              #(2)\n",
    "  print('Hello, Joe. What is the password? (It is a fish.)') \n",
    "  password = input()      #(3)\n",
    "  if password == 'swordfish':\n",
    "    break                 #(4)\n",
    "print('Access granted.')  #(5)\n",
    "\n"
   ]
  }
 ],
 "metadata": {
  "kernelspec": {
   "display_name": "Python 3",
   "language": "python",
   "name": "python3"
  },
  "language_info": {
   "codemirror_mode": {
    "name": "ipython",
    "version": 3
   },
   "file_extension": ".py",
   "mimetype": "text/x-python",
   "name": "python",
   "nbconvert_exporter": "python",
   "pygments_lexer": "ipython3",
   "version": "3.6.0"
  }
 },
 "nbformat": 4,
 "nbformat_minor": 2
}
